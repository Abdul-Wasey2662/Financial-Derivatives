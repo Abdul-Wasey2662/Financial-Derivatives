{
 "cells": [
  {
   "cell_type": "code",
   "execution_count": null,
   "id": "71ce77f3",
   "metadata": {},
   "outputs": [],
   "source": [
    "# Bismillah"
   ]
  },
  {
   "cell_type": "code",
   "execution_count": 6,
   "id": "d9f7c8b7",
   "metadata": {},
   "outputs": [],
   "source": [
    "import numpy as np\n",
    "import pandas as pd"
   ]
  },
  {
   "cell_type": "markdown",
   "id": "e59be610",
   "metadata": {},
   "source": [
    "# The Series\n",
    "    * A one-dimensional array\n",
    "    * Holds a single data type\n",
    "    * Allows access to elements through the associated index labels - helps in allignment of multiple series."
   ]
  },
  {
   "cell_type": "code",
   "execution_count": 7,
   "id": "2be0a748",
   "metadata": {},
   "outputs": [
    {
     "data": {
      "text/plain": [
       "array([ 2.45842812, -1.09927784,  1.75794182,  0.29568844,  0.10416013,\n",
       "       -1.53068833,  0.2262879 , -0.93053316, -1.490674  ,  1.16376726,\n",
       "       -0.14402236,  0.26581212,  0.35289843,  1.72917056,  0.13901108,\n",
       "        0.46786682, -0.16786839, -1.29132587,  1.25042854,  1.1570309 ,\n",
       "        0.09204988,  0.55107283,  1.4828191 ,  0.21825823, -1.09276219,\n",
       "       -1.08408525, -1.3936341 ,  0.16389215, -0.61980219, -0.18667651,\n",
       "        0.14170288, -0.66175889,  0.14794195,  1.3735017 , -0.53350615,\n",
       "       -0.98426898,  0.39752415,  0.13295949, -0.4416634 ,  0.01997714,\n",
       "       -0.96890536, -1.01473467,  0.16021566, -0.11350545, -1.07896334,\n",
       "       -0.76317923,  0.72658884,  2.10392993, -1.08506142, -1.42142261,\n",
       "       -0.29939207, -0.07313668, -0.32639995, -0.84478693, -1.04672266,\n",
       "        0.39598098,  0.56727632, -1.03642924,  1.5547316 , -0.05614963,\n",
       "       -1.67302721, -1.46633268,  0.95690802, -0.02373472, -2.85265276,\n",
       "       -0.08449829,  0.98501326,  0.49044209,  0.91610793, -1.57710124,\n",
       "        0.58484024,  0.10640779,  1.06549127,  0.6584134 , -1.51394844,\n",
       "        0.25998176,  0.46119608,  1.36530306, -1.13937079,  0.63734285,\n",
       "        1.7148541 ,  0.75398331, -1.54446059, -3.01280722,  0.28480526,\n",
       "       -1.84458653, -0.27082419,  1.23028246,  0.40180959,  0.31573955,\n",
       "        0.71969557, -0.1737102 , -2.07271327,  1.61090916,  0.05122988,\n",
       "       -0.35084318,  1.75950732,  2.13258788, -0.95641552, -0.95111099])"
      ]
     },
     "execution_count": 7,
     "metadata": {},
     "output_type": "execute_result"
    }
   ],
   "source": [
    "np.random.randn(100) # numpy array"
   ]
  },
  {
   "cell_type": "code",
   "execution_count": 10,
   "id": "b1c40e94",
   "metadata": {},
   "outputs": [],
   "source": [
    "s = pd.Series(np.random.randn(100)) # pandas series"
   ]
  },
  {
   "cell_type": "code",
   "execution_count": 11,
   "id": "0504c2c0",
   "metadata": {},
   "outputs": [
    {
     "data": {
      "text/plain": [
       "0    -2.525427\n",
       "1     0.652383\n",
       "2     0.986300\n",
       "3    -1.291662\n",
       "4     1.325174\n",
       "        ...   \n",
       "95    1.934394\n",
       "96    0.893534\n",
       "97    1.121842\n",
       "98   -1.945747\n",
       "99   -1.087411\n",
       "Length: 100, dtype: float64"
      ]
     },
     "execution_count": 11,
     "metadata": {},
     "output_type": "execute_result"
    }
   ],
   "source": [
    "s"
   ]
  },
  {
   "cell_type": "code",
   "execution_count": 12,
   "id": "7685a24d",
   "metadata": {},
   "outputs": [
    {
     "data": {
      "text/plain": [
       "0.986299801118016"
      ]
     },
     "execution_count": 12,
     "metadata": {},
     "output_type": "execute_result"
    }
   ],
   "source": [
    "s[2] # grab a value located at index 2."
   ]
  },
  {
   "cell_type": "code",
   "execution_count": null,
   "id": "f2316bb6",
   "metadata": {},
   "outputs": [],
   "source": [
    "# s[2, 4] # error since no single index, 2 4, exists."
   ]
  },
  {
   "cell_type": "code",
   "execution_count": 14,
   "id": "9e0a1d6f",
   "metadata": {},
   "outputs": [
    {
     "data": {
      "text/plain": [
       "2    0.986300\n",
       "4    1.325174\n",
       "3   -1.291662\n",
       "dtype: float64"
      ]
     },
     "execution_count": 14,
     "metadata": {},
     "output_type": "execute_result"
    }
   ],
   "source": [
    "s[[2, 4,3]] # the inner [] indicates multiple indices given."
   ]
  },
  {
   "cell_type": "code",
   "execution_count": 15,
   "id": "be9352f7",
   "metadata": {},
   "outputs": [
    {
     "data": {
      "text/plain": [
       "5    0.205265\n",
       "6    0.550818\n",
       "7   -0.910759\n",
       "8   -0.299291\n",
       "9    0.229892\n",
       "dtype: float64"
      ]
     },
     "execution_count": 15,
     "metadata": {},
     "output_type": "execute_result"
    }
   ],
   "source": [
    "s[5:10] # slicing doesn't need [] since there is no confusion."
   ]
  },
  {
   "cell_type": "code",
   "execution_count": 16,
   "id": "fcf52d20",
   "metadata": {},
   "outputs": [
    {
     "data": {
      "text/plain": [
       "0   -2.525427\n",
       "1    0.652383\n",
       "2    0.986300\n",
       "3   -1.291662\n",
       "4    1.325174\n",
       "dtype: float64"
      ]
     },
     "execution_count": 16,
     "metadata": {},
     "output_type": "execute_result"
    }
   ],
   "source": [
    "s.head()"
   ]
  },
  {
   "cell_type": "code",
   "execution_count": 17,
   "id": "ab61ee70",
   "metadata": {},
   "outputs": [
    {
     "data": {
      "text/plain": [
       "95    1.934394\n",
       "96    0.893534\n",
       "97    1.121842\n",
       "98   -1.945747\n",
       "99   -1.087411\n",
       "dtype: float64"
      ]
     },
     "execution_count": 17,
     "metadata": {},
     "output_type": "execute_result"
    }
   ],
   "source": [
    "s.tail()"
   ]
  },
  {
   "cell_type": "code",
   "execution_count": 18,
   "id": "5b093b15",
   "metadata": {},
   "outputs": [
    {
     "data": {
      "text/plain": [
       "(100,)"
      ]
     },
     "execution_count": 18,
     "metadata": {},
     "output_type": "execute_result"
    }
   ],
   "source": [
    "s.shape # 100 rows. Attribute and not method."
   ]
  },
  {
   "cell_type": "code",
   "execution_count": 19,
   "id": "112aba10",
   "metadata": {},
   "outputs": [
    {
     "data": {
      "text/plain": [
       "RangeIndex(start=0, stop=100, step=1)"
      ]
     },
     "execution_count": 19,
     "metadata": {},
     "output_type": "execute_result"
    }
   ],
   "source": [
    "s.index # Attribute and not method."
   ]
  },
  {
   "cell_type": "code",
   "execution_count": 20,
   "id": "e43adab9",
   "metadata": {},
   "outputs": [
    {
     "data": {
      "text/plain": [
       "array([-2.52542666,  0.65238262,  0.9862998 , -1.29166197,  1.32517403,\n",
       "        0.20526497,  0.55081784, -0.91075911, -0.29929144,  0.2298921 ,\n",
       "        1.07864202,  0.28884326, -0.8422935 ,  1.40883841, -1.09787138,\n",
       "        0.77496537, -0.55062069, -1.11035171, -1.84218659,  0.8051206 ,\n",
       "        1.50599236,  0.41081781, -0.63583328,  0.53357653,  0.2216532 ,\n",
       "       -0.74940697,  0.31491869, -1.09282529, -0.22812831, -0.9651645 ,\n",
       "        0.08010999, -0.24074059,  0.48909379, -0.51694059, -0.17317819,\n",
       "       -0.73606676, -0.25009487,  0.06984677, -1.29535581,  1.12271243,\n",
       "       -0.13433756,  1.3576567 ,  1.34599561,  1.19530057,  0.02221367,\n",
       "       -0.12908414, -1.1052334 , -1.70757764,  0.24028376, -0.4959476 ,\n",
       "        0.12451892,  0.61750057, -1.35874227,  0.91941547,  0.81706771,\n",
       "       -1.99823174, -0.16390672,  0.92483617, -1.959562  ,  0.19150821,\n",
       "       -1.77510182,  0.73607738, -0.28994434,  0.61552421, -1.20523303,\n",
       "       -0.33515205, -1.18688033, -1.6450919 ,  2.33815378, -1.25207379,\n",
       "        0.6086286 ,  0.47873922,  0.3634513 ,  0.90146879, -0.09487578,\n",
       "        0.50999484,  0.65671895, -1.83239057, -0.06900753, -0.14704722,\n",
       "        1.02886944, -0.61046756,  0.58966379, -0.26600715,  0.67782629,\n",
       "       -1.50778706,  0.10801087, -0.52336557, -0.18829415, -1.00741439,\n",
       "        0.99305843,  1.84965357, -0.59022305, -0.40525864,  1.35732013,\n",
       "        1.93439437,  0.89353358,  1.12184172, -1.94574716, -1.08741079])"
      ]
     },
     "execution_count": 20,
     "metadata": {},
     "output_type": "execute_result"
    }
   ],
   "source": [
    "s.values"
   ]
  },
  {
   "cell_type": "code",
   "execution_count": 21,
   "id": "32f5bfe1",
   "metadata": {},
   "outputs": [],
   "source": [
    "s = pd.Series([1, 2, 3, 4], index = ['a', 'b', 'c', 'd']) \n",
    "# [] to indicate multiple values as usual. Indices assigned at the time of constructing a series.\n",
    "# Series created through a list."
   ]
  },
  {
   "cell_type": "code",
   "execution_count": 22,
   "id": "3332c430",
   "metadata": {},
   "outputs": [
    {
     "data": {
      "text/plain": [
       "a    1\n",
       "b    2\n",
       "c    3\n",
       "d    4\n",
       "dtype: int64"
      ]
     },
     "execution_count": 22,
     "metadata": {},
     "output_type": "execute_result"
    }
   ],
   "source": [
    "s"
   ]
  },
  {
   "cell_type": "code",
   "execution_count": 23,
   "id": "22a0aef7",
   "metadata": {},
   "outputs": [],
   "source": [
    "s = pd.Series({'a': 1, 'b': 2, 'c': 3, 'd': 4})\n",
    "# Series created through a dictionary. The keys are the indices in the series."
   ]
  },
  {
   "cell_type": "code",
   "execution_count": 24,
   "id": "913700e4",
   "metadata": {},
   "outputs": [
    {
     "data": {
      "text/plain": [
       "a    1\n",
       "b    2\n",
       "c    3\n",
       "d    4\n",
       "dtype: int64"
      ]
     },
     "execution_count": 24,
     "metadata": {},
     "output_type": "execute_result"
    }
   ],
   "source": [
    "s"
   ]
  },
  {
   "cell_type": "code",
   "execution_count": 25,
   "id": "f377bedf",
   "metadata": {},
   "outputs": [],
   "source": [
    "s = pd.Series([1, 2, 3, 4, np.nan])\n",
    "# np.nan so that the pandas know that this value is missing."
   ]
  },
  {
   "cell_type": "code",
   "execution_count": 26,
   "id": "cbdc2adb",
   "metadata": {},
   "outputs": [
    {
     "data": {
      "text/plain": [
       "0    1.0\n",
       "1    2.0\n",
       "2    3.0\n",
       "3    4.0\n",
       "4    NaN\n",
       "dtype: float64"
      ]
     },
     "execution_count": 26,
     "metadata": {},
     "output_type": "execute_result"
    }
   ],
   "source": [
    "s"
   ]
  },
  {
   "cell_type": "code",
   "execution_count": 27,
   "id": "3be6c713",
   "metadata": {},
   "outputs": [
    {
     "data": {
      "text/plain": [
       "5"
      ]
     },
     "execution_count": 27,
     "metadata": {},
     "output_type": "execute_result"
    }
   ],
   "source": [
    "len(s)\n",
    "# includes a missing avalue as well."
   ]
  },
  {
   "cell_type": "code",
   "execution_count": 28,
   "id": "ce7cae5d",
   "metadata": {},
   "outputs": [
    {
     "data": {
      "text/plain": [
       "4"
      ]
     },
     "execution_count": 28,
     "metadata": {},
     "output_type": "execute_result"
    }
   ],
   "source": [
    "s.count()\n",
    "# excludes missing value."
   ]
  },
  {
   "cell_type": "code",
   "execution_count": 29,
   "id": "a84c3cdb",
   "metadata": {},
   "outputs": [],
   "source": [
    "s = pd.Series([10, 3 , 4, 5, 7, 7, 9, 10, np.nan])"
   ]
  },
  {
   "cell_type": "code",
   "execution_count": 30,
   "id": "c5561e93",
   "metadata": {},
   "outputs": [
    {
     "data": {
      "text/plain": [
       "0    10.0\n",
       "1     3.0\n",
       "2     4.0\n",
       "3     5.0\n",
       "4     7.0\n",
       "5     7.0\n",
       "6     9.0\n",
       "7    10.0\n",
       "8     NaN\n",
       "dtype: float64"
      ]
     },
     "execution_count": 30,
     "metadata": {},
     "output_type": "execute_result"
    }
   ],
   "source": [
    "s"
   ]
  },
  {
   "cell_type": "code",
   "execution_count": 31,
   "id": "2e789c88",
   "metadata": {},
   "outputs": [
    {
     "data": {
      "text/plain": [
       "array([10.,  3.,  4.,  5.,  7.,  9., nan])"
      ]
     },
     "execution_count": 31,
     "metadata": {},
     "output_type": "execute_result"
    }
   ],
   "source": [
    "s.unique()\n",
    "# returns only unique values. That is, avoid repeatition of the same value.\n",
    "# returns the missing value as well."
   ]
  },
  {
   "cell_type": "code",
   "execution_count": 32,
   "id": "4a54c2e8",
   "metadata": {},
   "outputs": [
    {
     "data": {
      "text/plain": [
       "10.0    2\n",
       "7.0     2\n",
       "3.0     1\n",
       "4.0     1\n",
       "5.0     1\n",
       "9.0     1\n",
       "dtype: int64"
      ]
     },
     "execution_count": 32,
     "metadata": {},
     "output_type": "execute_result"
    }
   ],
   "source": [
    "s.value_counts()\n",
    "# returns frrequency distribution in descending order. For ascending order, ascending = True.\n",
    "# excludes a missing value."
   ]
  },
  {
   "cell_type": "code",
   "execution_count": 33,
   "id": "832d3115",
   "metadata": {},
   "outputs": [
    {
     "data": {
      "text/plain": [
       "3.0     1\n",
       "4.0     1\n",
       "5.0     1\n",
       "9.0     1\n",
       "10.0    2\n",
       "7.0     2\n",
       "dtype: int64"
      ]
     },
     "execution_count": 33,
     "metadata": {},
     "output_type": "execute_result"
    }
   ],
   "source": [
    "s.value_counts(ascending = True) # go from smaller values to larger values."
   ]
  },
  {
   "cell_type": "code",
   "execution_count": 34,
   "id": "9c0e4a48",
   "metadata": {},
   "outputs": [
    {
     "data": {
      "text/plain": [
       "10.0    0.250\n",
       "7.0     0.250\n",
       "3.0     0.125\n",
       "4.0     0.125\n",
       "5.0     0.125\n",
       "9.0     0.125\n",
       "dtype: float64"
      ]
     },
     "execution_count": 34,
     "metadata": {},
     "output_type": "execute_result"
    }
   ],
   "source": [
    "s.value_counts(normalize = True) # to grab percentages. ascending = False is the default argument.\n"
   ]
  },
  {
   "cell_type": "code",
   "execution_count": 38,
   "id": "294df128",
   "metadata": {},
   "outputs": [],
   "source": [
    "s1 = pd.Series([1, 2, 3,4], index = ['a', 'b', 'c', 'd'])\n",
    "s2 = pd.Series([4, 3, 2, 1], index = ['d', 'c', 'b', 'a'])"
   ]
  },
  {
   "cell_type": "code",
   "execution_count": 39,
   "id": "2f284b22",
   "metadata": {},
   "outputs": [
    {
     "data": {
      "text/plain": [
       "a    2\n",
       "b    4\n",
       "c    6\n",
       "d    8\n",
       "dtype: int64"
      ]
     },
     "execution_count": 39,
     "metadata": {},
     "output_type": "execute_result"
    }
   ],
   "source": [
    "s1 + s2\n",
    "# The allignment is done automatically on the basis of index labels.\n",
    "# This feature does not exist in numpy array. See below."
   ]
  },
  {
   "cell_type": "code",
   "execution_count": 40,
   "id": "c81bb83f",
   "metadata": {},
   "outputs": [],
   "source": [
    "a1 = np.array([1, 2, 3, 4])\n",
    "a2 = np.array([4, 3, 2, 1])"
   ]
  },
  {
   "cell_type": "code",
   "execution_count": 41,
   "id": "16f4e3b1",
   "metadata": {},
   "outputs": [
    {
     "data": {
      "text/plain": [
       "array([1, 2, 3, 4])"
      ]
     },
     "execution_count": 41,
     "metadata": {},
     "output_type": "execute_result"
    }
   ],
   "source": [
    "a1"
   ]
  },
  {
   "cell_type": "code",
   "execution_count": 42,
   "id": "c81a143f",
   "metadata": {},
   "outputs": [
    {
     "data": {
      "text/plain": [
       "array([4, 3, 2, 1])"
      ]
     },
     "execution_count": 42,
     "metadata": {},
     "output_type": "execute_result"
    }
   ],
   "source": [
    "a2"
   ]
  },
  {
   "cell_type": "code",
   "execution_count": 43,
   "id": "ca743c91",
   "metadata": {},
   "outputs": [
    {
     "data": {
      "text/plain": [
       "array([5, 5, 5, 5])"
      ]
     },
     "execution_count": 43,
     "metadata": {},
     "output_type": "execute_result"
    }
   ],
   "source": [
    "a1 + a2\n",
    "# each corresponding element from both the arrays must be added. No flexibility of adding any two desriable elements of\n",
    "# array located at different indices."
   ]
  },
  {
   "cell_type": "code",
   "execution_count": null,
   "id": "415c4527",
   "metadata": {},
   "outputs": [],
   "source": []
  }
 ],
 "metadata": {
  "kernelspec": {
   "display_name": "Python 3 (ipykernel)",
   "language": "python",
   "name": "python3"
  },
  "language_info": {
   "codemirror_mode": {
    "name": "ipython",
    "version": 3
   },
   "file_extension": ".py",
   "mimetype": "text/x-python",
   "name": "python",
   "nbconvert_exporter": "python",
   "pygments_lexer": "ipython3",
   "version": "3.9.7"
  }
 },
 "nbformat": 4,
 "nbformat_minor": 5
}
