{
 "cells": [
  {
   "cell_type": "markdown",
   "id": "b1eed4ef",
   "metadata": {},
   "source": [
    "**FINANCIAL DERIVATIVES - 6B<br>\n",
    "ASSIGNMENT # 4 (Portfolio Optimization)**\n",
    "\n",
    "**ABDUL WASEY - 19P-0113<br>\n",
    "MUHAMMAD JUNAID - 19P-0113**"
   ]
  },
  {
   "cell_type": "code",
   "execution_count": 7,
   "id": "240e5192",
   "metadata": {},
   "outputs": [],
   "source": [
    "#importing necessary libraries that will be required throughout the analysis.\n",
    "\n",
    "import pandas_datareader.data as web\n",
    "import datetime as dt\n",
    "import pandas as pd\n",
    "import numpy as np\n",
    "import matplotlib.pyplot as plt\n",
    "%matplotlib inline\n",
    "import matplotlib.dates as mdates\n",
    "from matplotlib import style\n",
    "pd.options.mode.chained_assignment = None"
   ]
  },
  {
   "cell_type": "code",
   "execution_count": 8,
   "id": "b409530f",
   "metadata": {},
   "outputs": [],
   "source": [
    "#setting the tickers(the stocks we are analysing) and gathering the data for 5 years.\n",
    "\n",
    "start = dt.datetime(2016, 1, 1)\n",
    "end = dt.datetime(2021, 12, 31)\n",
    "tickers = ['DIS', 'SONY', 'WBD'] #(Disney , Sony , Warner Bros. Discovery)"
   ]
  },
  {
   "cell_type": "code",
   "execution_count": 9,
   "id": "98916251",
   "metadata": {},
   "outputs": [],
   "source": [
    "returns = pd.DataFrame()\n",
    "portfolio_return = []\n",
    "annual_return = 0\n",
    "portfolio_risk = []\n",
    "portfolio_weights = []\n",
    "weights = 0\n",
    "rf = 0\n",
    "sharpe_ratio = []"
   ]
  },
  {
   "cell_type": "code",
   "execution_count": 10,
   "id": "1f1328c7",
   "metadata": {},
   "outputs": [
    {
     "data": {
      "text/html": [
       "<div>\n",
       "<style scoped>\n",
       "    .dataframe tbody tr th:only-of-type {\n",
       "        vertical-align: middle;\n",
       "    }\n",
       "\n",
       "    .dataframe tbody tr th {\n",
       "        vertical-align: top;\n",
       "    }\n",
       "\n",
       "    .dataframe thead th {\n",
       "        text-align: right;\n",
       "    }\n",
       "</style>\n",
       "<table border=\"1\" class=\"dataframe\">\n",
       "  <thead>\n",
       "    <tr style=\"text-align: right;\">\n",
       "      <th></th>\n",
       "      <th>DIS</th>\n",
       "      <th>SONY</th>\n",
       "      <th>WBD</th>\n",
       "    </tr>\n",
       "    <tr>\n",
       "      <th>Date</th>\n",
       "      <th></th>\n",
       "      <th></th>\n",
       "      <th></th>\n",
       "    </tr>\n",
       "  </thead>\n",
       "  <tbody>\n",
       "    <tr>\n",
       "      <th>2015-12-31</th>\n",
       "      <td>NaN</td>\n",
       "      <td>NaN</td>\n",
       "      <td>NaN</td>\n",
       "    </tr>\n",
       "    <tr>\n",
       "      <th>2016-01-04</th>\n",
       "      <td>-0.019985</td>\n",
       "      <td>0.004876</td>\n",
       "      <td>-0.010120</td>\n",
       "    </tr>\n",
       "    <tr>\n",
       "      <th>2016-01-05</th>\n",
       "      <td>-0.020198</td>\n",
       "      <td>0.029923</td>\n",
       "      <td>0.002272</td>\n",
       "    </tr>\n",
       "    <tr>\n",
       "      <th>2016-01-06</th>\n",
       "      <td>-0.005352</td>\n",
       "      <td>-0.072242</td>\n",
       "      <td>-0.007178</td>\n",
       "    </tr>\n",
       "    <tr>\n",
       "      <th>2016-01-07</th>\n",
       "      <td>-0.008569</td>\n",
       "      <td>-0.015235</td>\n",
       "      <td>-0.030441</td>\n",
       "    </tr>\n",
       "    <tr>\n",
       "      <th>...</th>\n",
       "      <td>...</td>\n",
       "      <td>...</td>\n",
       "      <td>...</td>\n",
       "    </tr>\n",
       "    <tr>\n",
       "      <th>2021-12-27</th>\n",
       "      <td>-0.005403</td>\n",
       "      <td>0.027047</td>\n",
       "      <td>-0.002457</td>\n",
       "    </tr>\n",
       "    <tr>\n",
       "      <th>2021-12-28</th>\n",
       "      <td>0.015707</td>\n",
       "      <td>0.002123</td>\n",
       "      <td>-0.001232</td>\n",
       "    </tr>\n",
       "    <tr>\n",
       "      <th>2021-12-29</th>\n",
       "      <td>-0.002126</td>\n",
       "      <td>-0.006197</td>\n",
       "      <td>-0.018907</td>\n",
       "    </tr>\n",
       "    <tr>\n",
       "      <th>2021-12-30</th>\n",
       "      <td>0.006844</td>\n",
       "      <td>-0.006078</td>\n",
       "      <td>0.024298</td>\n",
       "    </tr>\n",
       "    <tr>\n",
       "      <th>2021-12-31</th>\n",
       "      <td>-0.006670</td>\n",
       "      <td>0.003812</td>\n",
       "      <td>-0.037219</td>\n",
       "    </tr>\n",
       "  </tbody>\n",
       "</table>\n",
       "<p>1512 rows × 3 columns</p>\n",
       "</div>"
      ],
      "text/plain": [
       "                 DIS      SONY       WBD\n",
       "Date                                    \n",
       "2015-12-31       NaN       NaN       NaN\n",
       "2016-01-04 -0.019985  0.004876 -0.010120\n",
       "2016-01-05 -0.020198  0.029923  0.002272\n",
       "2016-01-06 -0.005352 -0.072242 -0.007178\n",
       "2016-01-07 -0.008569 -0.015235 -0.030441\n",
       "...              ...       ...       ...\n",
       "2021-12-27 -0.005403  0.027047 -0.002457\n",
       "2021-12-28  0.015707  0.002123 -0.001232\n",
       "2021-12-29 -0.002126 -0.006197 -0.018907\n",
       "2021-12-30  0.006844 -0.006078  0.024298\n",
       "2021-12-31 -0.006670  0.003812 -0.037219\n",
       "\n",
       "[1512 rows x 3 columns]"
      ]
     },
     "execution_count": 10,
     "metadata": {},
     "output_type": "execute_result"
    }
   ],
   "source": [
    "for ticker in tickers:\n",
    "    data = web.DataReader(ticker, 'yahoo', start, end) \n",
    "    data[ticker] = data['Adj Close'].pct_change()\n",
    "    \n",
    "    if returns.empty:\n",
    "        returns = data[[ticker]]\n",
    "    else:\n",
    "        returns = returns.join(data[[ticker]], how = 'outer') \n",
    "returns"
   ]
  },
  {
   "cell_type": "code",
   "execution_count": 12,
   "id": "e50af985",
   "metadata": {},
   "outputs": [],
   "source": [
    "#Deciding the number of portfolios.\n",
    "\n",
    "number_of_portfolios = 50000\n",
    "\n",
    "for portfolio in range(number_of_portfolios):\n",
    "    \n",
    "    #Random portfolio weights\n",
    "    weights = np.random.random_sample(len(tickers))\n",
    "    weights = np.round((weights / np.sum(weights)), 2)\n",
    "    portfolio_weights.append(weights)\n",
    "     \n",
    "    #Annualized portfolio return\n",
    "    annualized_return = np.sum(returns.mean() * weights) * 252 #multiplying by 252 because these are the trading days\n",
    "    portfolio_return.append(annualized_return)                 #in a year.\n",
    "    \n",
    "    #Portfolio risk\n",
    "    covariance_matrix = returns.cov() * 252\n",
    "    portfolio_variance = np.dot(weights.T, np.dot(covariance_matrix, weights))\n",
    "    portfolio_standard_deviation = np.sqrt(portfolio_variance)\n",
    "    portfolio_risk.append(portfolio_standard_deviation)\n",
    "   \n",
    "    #Sharpe Ratio\n",
    "    s_ratio = (annualized_return - rf) / portfolio_standard_deviation\n",
    "    sharpe_ratio.append(s_ratio)"
   ]
  },
  {
   "cell_type": "code",
   "execution_count": 13,
   "id": "c9140993",
   "metadata": {},
   "outputs": [],
   "source": [
    "portfolio_weights = np.array(portfolio_weights)\n",
    "portfolio_return = np.array(portfolio_return)\n",
    "portfolio_risk = np.array(portfolio_risk)\n",
    "sharpe_ratio = np.array(sharpe_ratio)"
   ]
  },
  {
   "cell_type": "code",
   "execution_count": 14,
   "id": "fc31739b",
   "metadata": {},
   "outputs": [],
   "source": [
    "portfolio_metrics = [portfolio_return, portfolio_risk, sharpe_ratio, portfolio_weights]"
   ]
  },
  {
   "cell_type": "code",
   "execution_count": 15,
   "id": "50c21ee9",
   "metadata": {},
   "outputs": [],
   "source": [
    "portfolio_df = pd.DataFrame(portfolio_metrics)\n",
    "portfolio_df = portfolio_df.T"
   ]
  },
  {
   "cell_type": "code",
   "execution_count": 16,
   "id": "e8004534",
   "metadata": {},
   "outputs": [
    {
     "data": {
      "text/html": [
       "<div>\n",
       "<style scoped>\n",
       "    .dataframe tbody tr th:only-of-type {\n",
       "        vertical-align: middle;\n",
       "    }\n",
       "\n",
       "    .dataframe tbody tr th {\n",
       "        vertical-align: top;\n",
       "    }\n",
       "\n",
       "    .dataframe thead th {\n",
       "        text-align: right;\n",
       "    }\n",
       "</style>\n",
       "<table border=\"1\" class=\"dataframe\">\n",
       "  <thead>\n",
       "    <tr style=\"text-align: right;\">\n",
       "      <th></th>\n",
       "      <th>Return</th>\n",
       "      <th>Risk</th>\n",
       "      <th>Sharpe Ratio</th>\n",
       "      <th>Weights</th>\n",
       "    </tr>\n",
       "  </thead>\n",
       "  <tbody>\n",
       "    <tr>\n",
       "      <th>0</th>\n",
       "      <td>0.175055</td>\n",
       "      <td>0.237644</td>\n",
       "      <td>0.736628</td>\n",
       "      <td>[0.33, 0.38, 0.29]</td>\n",
       "    </tr>\n",
       "    <tr>\n",
       "      <th>1</th>\n",
       "      <td>0.213604</td>\n",
       "      <td>0.239742</td>\n",
       "      <td>0.890973</td>\n",
       "      <td>[0.19, 0.56, 0.24]</td>\n",
       "    </tr>\n",
       "    <tr>\n",
       "      <th>2</th>\n",
       "      <td>0.171001</td>\n",
       "      <td>0.26775</td>\n",
       "      <td>0.638658</td>\n",
       "      <td>[0.1, 0.41, 0.49]</td>\n",
       "    </tr>\n",
       "    <tr>\n",
       "      <th>3</th>\n",
       "      <td>0.238798</td>\n",
       "      <td>0.240284</td>\n",
       "      <td>0.993814</td>\n",
       "      <td>[0.28, 0.64, 0.07]</td>\n",
       "    </tr>\n",
       "    <tr>\n",
       "      <th>4</th>\n",
       "      <td>0.107624</td>\n",
       "      <td>0.279486</td>\n",
       "      <td>0.385076</td>\n",
       "      <td>[0.37, 0.11, 0.52]</td>\n",
       "    </tr>\n",
       "    <tr>\n",
       "      <th>...</th>\n",
       "      <td>...</td>\n",
       "      <td>...</td>\n",
       "      <td>...</td>\n",
       "      <td>...</td>\n",
       "    </tr>\n",
       "    <tr>\n",
       "      <th>99995</th>\n",
       "      <td>0.186884</td>\n",
       "      <td>0.23267</td>\n",
       "      <td>0.803216</td>\n",
       "      <td>[0.36, 0.42, 0.22]</td>\n",
       "    </tr>\n",
       "    <tr>\n",
       "      <th>99996</th>\n",
       "      <td>0.267356</td>\n",
       "      <td>0.270408</td>\n",
       "      <td>0.988713</td>\n",
       "      <td>[0.01, 0.8, 0.2]</td>\n",
       "    </tr>\n",
       "    <tr>\n",
       "      <th>99997</th>\n",
       "      <td>0.163185</td>\n",
       "      <td>0.234488</td>\n",
       "      <td>0.69592</td>\n",
       "      <td>[0.45, 0.31, 0.24]</td>\n",
       "    </tr>\n",
       "    <tr>\n",
       "      <th>99998</th>\n",
       "      <td>0.179772</td>\n",
       "      <td>0.276189</td>\n",
       "      <td>0.650902</td>\n",
       "      <td>[0.02, 0.46, 0.52]</td>\n",
       "    </tr>\n",
       "    <tr>\n",
       "      <th>99999</th>\n",
       "      <td>0.091238</td>\n",
       "      <td>0.298128</td>\n",
       "      <td>0.306036</td>\n",
       "      <td>[0.39, 0.04, 0.58]</td>\n",
       "    </tr>\n",
       "  </tbody>\n",
       "</table>\n",
       "<p>100000 rows × 4 columns</p>\n",
       "</div>"
      ],
      "text/plain": [
       "         Return      Risk Sharpe Ratio             Weights\n",
       "0      0.175055  0.237644     0.736628  [0.33, 0.38, 0.29]\n",
       "1      0.213604  0.239742     0.890973  [0.19, 0.56, 0.24]\n",
       "2      0.171001   0.26775     0.638658   [0.1, 0.41, 0.49]\n",
       "3      0.238798  0.240284     0.993814  [0.28, 0.64, 0.07]\n",
       "4      0.107624  0.279486     0.385076  [0.37, 0.11, 0.52]\n",
       "...         ...       ...          ...                 ...\n",
       "99995  0.186884   0.23267     0.803216  [0.36, 0.42, 0.22]\n",
       "99996  0.267356  0.270408     0.988713    [0.01, 0.8, 0.2]\n",
       "99997  0.163185  0.234488      0.69592  [0.45, 0.31, 0.24]\n",
       "99998  0.179772  0.276189     0.650902  [0.02, 0.46, 0.52]\n",
       "99999  0.091238  0.298128     0.306036  [0.39, 0.04, 0.58]\n",
       "\n",
       "[100000 rows x 4 columns]"
      ]
     },
     "execution_count": 16,
     "metadata": {},
     "output_type": "execute_result"
    }
   ],
   "source": [
    "portfolio_df.columns = ['Return', 'Risk', 'Sharpe Ratio', 'Weights']\n",
    "portfolio_df"
   ]
  },
  {
   "cell_type": "code",
   "execution_count": 19,
   "id": "8c4689c0",
   "metadata": {},
   "outputs": [],
   "source": [
    "minimum_risk_portfolio = portfolio_df.iloc[portfolio_df['Risk'].astype(float).idxmin()]\n",
    "maximum_return_portfolio = portfolio_df.iloc[portfolio_df['Return'].astype(float).idxmax()]\n",
    "maximum_sharpe_portfolio = portfolio_df.iloc[portfolio_df['Sharpe Ratio'].astype(float).idxmax()]"
   ]
  },
  {
   "cell_type": "code",
   "execution_count": 24,
   "id": "090d6e53",
   "metadata": {},
   "outputs": [
    {
     "name": "stdout",
     "output_type": "stream",
     "text": [
      "Minimum Risk Portfolio: \n"
     ]
    },
    {
     "data": {
      "text/plain": [
       "Return                   0.186765\n",
       "Risk                     0.227159\n",
       "Sharpe Ratio             0.822178\n",
       "Weights         [0.47, 0.4, 0.12]\n",
       "Name: 20254, dtype: object"
      ]
     },
     "metadata": {},
     "output_type": "display_data"
    },
    {
     "data": {
      "text/plain": [
       "['DIS', 'SONY', 'WBD']"
      ]
     },
     "metadata": {},
     "output_type": "display_data"
    },
    {
     "name": "stdout",
     "output_type": "stream",
     "text": [
      "  \n",
      "  \n",
      "Maximum Return Portfolio: \n"
     ]
    },
    {
     "data": {
      "text/plain": [
       "Return                    0.316249\n",
       "Risk                       0.29909\n",
       "Sharpe Ratio              1.057373\n",
       "Weights         [0.01, 0.99, 0.01]\n",
       "Name: 91816, dtype: object"
      ]
     },
     "metadata": {},
     "output_type": "display_data"
    },
    {
     "data": {
      "text/plain": [
       "['DIS', 'SONY', 'WBD']"
      ]
     },
     "metadata": {},
     "output_type": "display_data"
    },
    {
     "name": "stdout",
     "output_type": "stream",
     "text": [
      "  \n",
      "  \n",
      "Maximum Sharpe Ratio Portfolio: \n"
     ]
    },
    {
     "data": {
      "text/plain": [
       "Return                   0.305338\n",
       "Risk                     0.288181\n",
       "Sharpe Ratio             1.059538\n",
       "Weights         [0.06, 0.94, 0.0]\n",
       "Name: 76406, dtype: object"
      ]
     },
     "metadata": {},
     "output_type": "display_data"
    },
    {
     "data": {
      "text/plain": [
       "['DIS', 'SONY', 'WBD']"
      ]
     },
     "metadata": {},
     "output_type": "display_data"
    },
    {
     "name": "stdout",
     "output_type": "stream",
     "text": [
      "  \n"
     ]
    }
   ],
   "source": [
    "print('Minimum Risk Portfolio: ')\n",
    "display(min_risk_portfolio)\n",
    "display(tickers)\n",
    "print('  ')\n",
    "print('  ')\n",
    "\n",
    "print('Maximum Return Portfolio: ')\n",
    "display(max_return_portfolio)\n",
    "display(tickers)\n",
    "print('  ')\n",
    "print('  ')\n",
    "\n",
    "\n",
    "print('Maximum Sharpe Ratio Portfolio: ')\n",
    "display(max_sharpe_portfolio)\n",
    "display(tickers)\n",
    "print('  ')"
   ]
  },
  {
   "cell_type": "code",
   "execution_count": 28,
   "id": "62e0af0f",
   "metadata": {},
   "outputs": [
    {
     "data": {
      "image/png": "[encoded data removed]",
      "text/plain": [
       "<Figure size 720x360 with 2 Axes>"
      ]
     },
     "metadata": {
      "needs_background": "light"
     },
     "output_type": "display_data"
    }
   ],
   "source": [
    "#Final Visualization\n",
    "\n",
    "plt.figure(figsize = (10, 5))\n",
    "color = np.array([\"black\", \"green\"])\n",
    "plt.scatter(portfolio_risk, portfolio_return, c = portfolio_return / portfolio_risk) # c for colorbar based on sharpe ratio.\n",
    "\n",
    "plt.title('Portfolio Optimization', fontsize = 26)\n",
    "\n",
    "plt.xlabel('Volatility', fontsize = 20)\n",
    "plt.ylabel('Return', fontsize = 20)\n",
    "\n",
    "plt.xticks(fontsize = 15)\n",
    "plt.yticks(fontsize = 15)\n",
    "\n",
    "plt.colorbar(label = 'Sharpe Ratio')\n",
    "\n",
    "plt.show()"
   ]
  },
  {
   "cell_type": "code",
   "execution_count": null,
   "id": "5b52c6b5",
   "metadata": {},
   "outputs": [],
   "source": []
  }
 ],
 "metadata": {
  "kernelspec": {
   "display_name": "Python 3 (ipykernel)",
   "language": "python",
   "name": "python3"
  },
  "language_info": {
   "codemirror_mode": {
    "name": "ipython",
    "version": 3
   },
   "file_extension": ".py",
   "mimetype": "text/x-python",
   "name": "python",
   "nbconvert_exporter": "python",
   "pygments_lexer": "ipython3",
   "version": "3.9.7"
  }
 },
 "nbformat": 4,
 "nbformat_minor": 5
}
